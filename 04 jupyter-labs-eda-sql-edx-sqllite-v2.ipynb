{
 "cells": [
  {
   "cell_type": "markdown",
   "metadata": {},
   "source": [
    "<p style=\"text-align:center\">\n",
    "    <a href=\"https://skills.network\" target=\"_blank\">\n",
    "    <img src=\"https://cf-courses-data.s3.us.cloud-object-storage.appdomain.cloud/assets/logos/SN_web_lightmode.png\" width=\"200\" alt=\"Skills Network Logo\">\n",
    "    </a>\n",
    "</p>\n",
    "\n",
    "<h1 align=center><font size = 5>Hands-on Lab: Complete the EDA with SQL</font></h1>\n",
    "\n",
    "Estimated time needed: **60** minutes.\n",
    "\n",
    "## Introduction\n",
    "Using this Python notebook you will:\n",
    "\n",
    "1.  Understand the Spacex DataSet\n",
    "2.  Load the dataset  into the corresponding table in a Db2 database\n",
    "3.  Execute SQL queries to answer assignment questions \n"
   ]
  },
  {
   "cell_type": "markdown",
   "metadata": {},
   "source": [
    "## Overview of the DataSet\n",
    "\n",
    "SpaceX has gained worldwide attention for a series of historic milestones. \n",
    "\n",
    "It is the only private company ever to return a spacecraft from low-earth orbit, which it first accomplished in December 2010.\n",
    "SpaceX advertises Falcon 9 rocket launches on its website with a cost of 62 million dollars wheras other providers cost upward of 165 million dollars each, much of the savings is because Space X can reuse the first stage. \n",
    "\n",
    "\n",
    "Therefore if we can determine if the first stage will land, we can determine the cost of a launch. \n",
    "\n",
    "This information can be used if an alternate company wants to bid against SpaceX for a rocket launch.\n",
    "\n",
    "This dataset includes a record for each payload carried during a SpaceX mission into outer space.\n"
   ]
  },
  {
   "cell_type": "markdown",
   "metadata": {},
   "source": [
    "### Download the datasets\n",
    "\n",
    "This assignment requires you to load the spacex dataset.\n",
    "\n",
    "In many cases the dataset to be analyzed is available as a .CSV (comma separated values) file, perhaps on the internet. Click on the link below to download and save the dataset (.CSV file):\n",
    "\n",
    " <a href=\"https://cf-courses-data.s3.us.cloud-object-storage.appdomain.cloud/IBM-DS0321EN-SkillsNetwork/labs/module_2/data/Spacex.csv\" target=\"_blank\">Spacex DataSet</a>\n",
    "\n"
   ]
  },
  {
   "cell_type": "code",
   "execution_count": 1,
   "metadata": {},
   "outputs": [
    {
     "name": "stdout",
     "output_type": "stream",
     "text": [
      "Collecting sqlalchemy==1.4\n",
      "  Downloading SQLAlchemy-1.4.0.tar.gz (7.4 MB)\n",
      "     ---------------------------------------- 0.0/7.4 MB ? eta -:--:--\n",
      "     ---------------------------------------- 0.0/7.4 MB ? eta -:--:--\n",
      "     ---------------------------------------- 0.0/7.4 MB 217.9 kB/s eta 0:00:35\n",
      "     ---------------------------------------- 0.0/7.4 MB 217.9 kB/s eta 0:00:35\n",
      "     ---------------------------------------- 0.0/7.4 MB 217.9 kB/s eta 0:00:35\n",
      "     ---------------------------------------- 0.0/7.4 MB 217.9 kB/s eta 0:00:35\n",
      "     ---------------------------------------- 0.0/7.4 MB 217.9 kB/s eta 0:00:35\n",
      "     ---------------------------------------- 0.0/7.4 MB 108.9 kB/s eta 0:01:08\n",
      "     ---------------------------------------- 0.1/7.4 MB 206.9 kB/s eta 0:00:36\n",
      "     ---------------------------------------- 0.1/7.4 MB 206.9 kB/s eta 0:00:36\n",
      "     ---------------------------------------- 0.1/7.4 MB 194.1 kB/s eta 0:00:38\n",
      "     ---------------------------------------- 0.1/7.4 MB 194.1 kB/s eta 0:00:38\n",
      "     ---------------------------------------- 0.1/7.4 MB 194.1 kB/s eta 0:00:38\n",
      "     ---------------------------------------- 0.1/7.4 MB 194.1 kB/s eta 0:00:38\n",
      "     ---------------------------------------- 0.1/7.4 MB 194.1 kB/s eta 0:00:38\n",
      "      --------------------------------------- 0.2/7.4 MB 255.6 kB/s eta 0:00:29\n",
      "      --------------------------------------- 0.2/7.4 MB 255.6 kB/s eta 0:00:29\n",
      "      --------------------------------------- 0.2/7.4 MB 255.6 kB/s eta 0:00:29\n",
      "      --------------------------------------- 0.2/7.4 MB 255.6 kB/s eta 0:00:29\n",
      "      --------------------------------------- 0.2/7.4 MB 255.6 kB/s eta 0:00:29\n",
      "     - -------------------------------------- 0.2/7.4 MB 218.4 kB/s eta 0:00:34\n",
      "     - -------------------------------------- 0.3/7.4 MB 327.4 kB/s eta 0:00:22\n",
      "     - -------------------------------------- 0.3/7.4 MB 327.4 kB/s eta 0:00:22\n",
      "     - -------------------------------------- 0.3/7.4 MB 327.4 kB/s eta 0:00:22\n",
      "     -- ------------------------------------- 0.4/7.4 MB 361.0 kB/s eta 0:00:20\n",
      "     -- ------------------------------------- 0.5/7.4 MB 418.7 kB/s eta 0:00:17\n",
      "     -- ------------------------------------- 0.5/7.4 MB 445.6 kB/s eta 0:00:16\n",
      "     --- ------------------------------------ 0.6/7.4 MB 470.4 kB/s eta 0:00:15\n",
      "     --- ------------------------------------ 0.6/7.4 MB 499.7 kB/s eta 0:00:14\n",
      "     --- ------------------------------------ 0.7/7.4 MB 544.8 kB/s eta 0:00:13\n",
      "     --- ------------------------------------ 0.7/7.4 MB 544.8 kB/s eta 0:00:13\n",
      "     ---- ----------------------------------- 0.8/7.4 MB 545.8 kB/s eta 0:00:13\n",
      "     ---- ----------------------------------- 0.8/7.4 MB 570.8 kB/s eta 0:00:12\n",
      "     ---- ----------------------------------- 0.9/7.4 MB 593.0 kB/s eta 0:00:12\n",
      "     ----- ---------------------------------- 1.0/7.4 MB 615.6 kB/s eta 0:00:11\n",
      "     ----- ---------------------------------- 1.0/7.4 MB 622.2 kB/s eta 0:00:11\n",
      "     ----- ---------------------------------- 1.1/7.4 MB 667.7 kB/s eta 0:00:10\n",
      "     ------ --------------------------------- 1.2/7.4 MB 679.4 kB/s eta 0:00:10\n",
      "     ------ --------------------------------- 1.2/7.4 MB 679.4 kB/s eta 0:00:10\n",
      "     ------ --------------------------------- 1.2/7.4 MB 666.8 kB/s eta 0:00:10\n",
      "     ------ --------------------------------- 1.3/7.4 MB 689.0 kB/s eta 0:00:09\n",
      "     ------- -------------------------------- 1.3/7.4 MB 710.8 kB/s eta 0:00:09\n",
      "     ------- -------------------------------- 1.4/7.4 MB 719.5 kB/s eta 0:00:09\n",
      "     ------- -------------------------------- 1.4/7.4 MB 719.5 kB/s eta 0:00:09\n",
      "     -------- ------------------------------- 1.5/7.4 MB 761.9 kB/s eta 0:00:08\n",
      "     -------- ------------------------------- 1.6/7.4 MB 765.4 kB/s eta 0:00:08\n",
      "     -------- ------------------------------- 1.6/7.4 MB 765.4 kB/s eta 0:00:08\n",
      "     -------- ------------------------------- 1.6/7.4 MB 759.6 kB/s eta 0:00:08\n",
      "     --------- ------------------------------ 1.7/7.4 MB 786.3 kB/s eta 0:00:08\n",
      "     --------- ------------------------------ 1.8/7.4 MB 801.0 kB/s eta 0:00:08\n",
      "     --------- ------------------------------ 1.8/7.4 MB 799.9 kB/s eta 0:00:08\n",
      "     ---------- ----------------------------- 1.9/7.4 MB 795.1 kB/s eta 0:00:08\n",
      "     ---------- ----------------------------- 2.0/7.4 MB 849.4 kB/s eta 0:00:07\n",
      "     ---------- ----------------------------- 2.0/7.4 MB 842.3 kB/s eta 0:00:07\n",
      "     ----------- ---------------------------- 2.1/7.4 MB 836.5 kB/s eta 0:00:07\n",
      "     ----------- ---------------------------- 2.1/7.4 MB 843.8 kB/s eta 0:00:07\n",
      "     ------------ --------------------------- 2.3/7.4 MB 869.9 kB/s eta 0:00:06\n",
      "     ------------ --------------------------- 2.3/7.4 MB 873.8 kB/s eta 0:00:06\n",
      "     ------------ --------------------------- 2.3/7.4 MB 880.2 kB/s eta 0:00:06\n",
      "     ------------- -------------------------- 2.4/7.4 MB 887.3 kB/s eta 0:00:06\n",
      "     ------------- -------------------------- 2.5/7.4 MB 910.7 kB/s eta 0:00:06\n",
      "     ------------- -------------------------- 2.5/7.4 MB 912.8 kB/s eta 0:00:06\n",
      "     -------------- ------------------------- 2.6/7.4 MB 911.8 kB/s eta 0:00:06\n",
      "     -------------- ------------------------- 2.7/7.4 MB 928.7 kB/s eta 0:00:06\n",
      "     --------------- ------------------------ 2.8/7.4 MB 938.1 kB/s eta 0:00:05\n",
      "     --------------- ------------------------ 2.9/7.4 MB 943.9 kB/s eta 0:00:05\n",
      "     --------------- ------------------------ 2.9/7.4 MB 943.9 kB/s eta 0:00:05\n",
      "     --------------- ------------------------ 2.9/7.4 MB 945.0 kB/s eta 0:00:05\n",
      "     ---------------- ----------------------- 3.1/7.4 MB 981.3 kB/s eta 0:00:05\n",
      "     ---------------- ----------------------- 3.1/7.4 MB 981.3 kB/s eta 0:00:05\n",
      "     ---------------- ----------------------- 3.1/7.4 MB 961.0 kB/s eta 0:00:05\n",
      "     ----------------- ---------------------- 3.2/7.4 MB 972.1 kB/s eta 0:00:05\n",
      "     ----------------- ---------------------- 3.3/7.4 MB 983.0 kB/s eta 0:00:05\n",
      "     ------------------ --------------------- 3.4/7.4 MB 993.5 kB/s eta 0:00:05\n",
      "     ------------------ --------------------- 3.4/7.4 MB 993.5 kB/s eta 0:00:05\n",
      "     ------------------ --------------------- 3.5/7.4 MB 1.0 MB/s eta 0:00:04\n",
      "     ------------------- -------------------- 3.6/7.4 MB 1.0 MB/s eta 0:00:04\n",
      "     ------------------- -------------------- 3.6/7.4 MB 1.0 MB/s eta 0:00:04\n",
      "     ------------------- -------------------- 3.7/7.4 MB 1.0 MB/s eta 0:00:04\n",
      "     -------------------- ------------------- 3.8/7.4 MB 1.0 MB/s eta 0:00:04\n",
      "     -------------------- ------------------- 3.9/7.4 MB 1.0 MB/s eta 0:00:04\n",
      "     -------------------- ------------------- 3.9/7.4 MB 1.0 MB/s eta 0:00:04\n",
      "     --------------------- ------------------ 3.9/7.4 MB 1.0 MB/s eta 0:00:04\n",
      "     ---------------------- ----------------- 4.1/7.4 MB 1.1 MB/s eta 0:00:04\n",
      "     ---------------------- ----------------- 4.1/7.4 MB 1.1 MB/s eta 0:00:04\n",
      "     ---------------------- ----------------- 4.1/7.4 MB 1.1 MB/s eta 0:00:04\n",
      "     ---------------------- ----------------- 4.2/7.4 MB 1.1 MB/s eta 0:00:04\n",
      "     ----------------------- ---------------- 4.3/7.4 MB 1.1 MB/s eta 0:00:03\n",
      "     ----------------------- ---------------- 4.4/7.4 MB 1.1 MB/s eta 0:00:03\n",
      "     ----------------------- ---------------- 4.4/7.4 MB 1.1 MB/s eta 0:00:03\n",
      "     ------------------------ --------------- 4.5/7.4 MB 1.1 MB/s eta 0:00:03\n",
      "     ------------------------- -------------- 4.7/7.4 MB 1.1 MB/s eta 0:00:03\n",
      "     ------------------------- -------------- 4.7/7.4 MB 1.1 MB/s eta 0:00:03\n",
      "     ------------------------- -------------- 4.7/7.4 MB 1.1 MB/s eta 0:00:03\n",
      "     ------------------------- -------------- 4.8/7.4 MB 1.1 MB/s eta 0:00:03\n",
      "     -------------------------- ------------- 4.9/7.4 MB 1.1 MB/s eta 0:00:03\n",
      "     -------------------------- ------------- 5.0/7.4 MB 1.1 MB/s eta 0:00:03\n",
      "     -------------------------- ------------- 5.0/7.4 MB 1.1 MB/s eta 0:00:03\n",
      "     --------------------------- ------------ 5.0/7.4 MB 1.1 MB/s eta 0:00:03\n",
      "     --------------------------- ------------ 5.2/7.4 MB 1.1 MB/s eta 0:00:02\n",
      "     --------------------------- ------------ 5.2/7.4 MB 1.1 MB/s eta 0:00:02\n",
      "     ---------------------------- ----------- 5.2/7.4 MB 1.1 MB/s eta 0:00:02\n",
      "     ---------------------------- ----------- 5.3/7.4 MB 1.1 MB/s eta 0:00:02\n",
      "     ----------------------------- ---------- 5.4/7.4 MB 1.1 MB/s eta 0:00:02\n",
      "     ----------------------------- ---------- 5.5/7.4 MB 1.1 MB/s eta 0:00:02\n",
      "     ----------------------------- ---------- 5.5/7.4 MB 1.1 MB/s eta 0:00:02\n",
      "     ------------------------------ --------- 5.6/7.4 MB 1.1 MB/s eta 0:00:02\n",
      "     ------------------------------ --------- 5.7/7.4 MB 1.1 MB/s eta 0:00:02\n",
      "     ------------------------------ --------- 5.7/7.4 MB 1.1 MB/s eta 0:00:02\n",
      "     ------------------------------- -------- 5.8/7.4 MB 1.1 MB/s eta 0:00:02\n",
      "     ------------------------------- -------- 5.9/7.4 MB 1.1 MB/s eta 0:00:02\n",
      "     ------------------------------- -------- 5.9/7.4 MB 1.1 MB/s eta 0:00:02\n",
      "     -------------------------------- ------- 6.0/7.4 MB 1.1 MB/s eta 0:00:02\n",
      "     -------------------------------- ------- 6.0/7.4 MB 1.1 MB/s eta 0:00:02\n",
      "     --------------------------------- ------ 6.2/7.4 MB 1.2 MB/s eta 0:00:02\n",
      "     --------------------------------- ------ 6.2/7.4 MB 1.2 MB/s eta 0:00:02\n",
      "     --------------------------------- ------ 6.2/7.4 MB 1.2 MB/s eta 0:00:02\n",
      "     --------------------------------- ------ 6.3/7.4 MB 1.2 MB/s eta 0:00:01\n",
      "     ---------------------------------- ----- 6.4/7.4 MB 1.2 MB/s eta 0:00:01\n",
      "     ---------------------------------- ----- 6.5/7.4 MB 1.2 MB/s eta 0:00:01\n",
      "     ----------------------------------- ---- 6.5/7.4 MB 1.2 MB/s eta 0:00:01\n",
      "     ----------------------------------- ---- 6.5/7.4 MB 1.2 MB/s eta 0:00:01\n",
      "     ----------------------------------- ---- 6.5/7.4 MB 1.2 MB/s eta 0:00:01\n",
      "     ----------------------------------- ---- 6.5/7.4 MB 1.2 MB/s eta 0:00:01\n",
      "     ----------------------------------- ---- 6.5/7.4 MB 1.2 MB/s eta 0:00:01\n",
      "     ------------------------------------ --- 6.8/7.4 MB 1.2 MB/s eta 0:00:01\n",
      "     ------------------------------------- -- 6.9/7.4 MB 1.2 MB/s eta 0:00:01\n",
      "     ------------------------------------- -- 6.9/7.4 MB 1.2 MB/s eta 0:00:01\n",
      "     ------------------------------------- -- 7.0/7.4 MB 1.2 MB/s eta 0:00:01\n",
      "     ------------------------------------- -- 7.0/7.4 MB 1.2 MB/s eta 0:00:01\n",
      "     -------------------------------------- - 7.1/7.4 MB 1.2 MB/s eta 0:00:01\n",
      "     -------------------------------------- - 7.1/7.4 MB 1.2 MB/s eta 0:00:01\n",
      "     -------------------------------------- - 7.1/7.4 MB 1.2 MB/s eta 0:00:01\n",
      "     -------------------------------------- - 7.2/7.4 MB 1.2 MB/s eta 0:00:01\n",
      "     ---------------------------------------  7.3/7.4 MB 1.2 MB/s eta 0:00:01\n",
      "     ---------------------------------------  7.4/7.4 MB 1.2 MB/s eta 0:00:01\n",
      "     ---------------------------------------  7.4/7.4 MB 1.2 MB/s eta 0:00:01\n",
      "     ---------------------------------------  7.4/7.4 MB 1.2 MB/s eta 0:00:01\n",
      "     ---------------------------------------- 7.4/7.4 MB 1.2 MB/s eta 0:00:00\n",
      "  Preparing metadata (setup.py): started\n",
      "  Preparing metadata (setup.py): finished with status 'done'\n",
      "Collecting greenlet!=0.4.17 (from sqlalchemy==1.4)\n",
      "  Downloading greenlet-3.1.1-cp312-cp312-win_amd64.whl.metadata (3.9 kB)\n",
      "Downloading greenlet-3.1.1-cp312-cp312-win_amd64.whl (299 kB)\n",
      "   ---------------------------------------- 0.0/299.7 kB ? eta -:--:--\n",
      "   --------- ------------------------------ 71.7/299.7 kB 1.3 MB/s eta 0:00:01\n",
      "   ------------------- -------------------- 143.4/299.7 kB 1.7 MB/s eta 0:00:01\n",
      "   --------------------------- ------------ 204.8/299.7 kB 1.6 MB/s eta 0:00:01\n",
      "   ------------------------------ --------- 225.3/299.7 kB 1.5 MB/s eta 0:00:01\n",
      "   ------------------------------ --------- 225.3/299.7 kB 1.5 MB/s eta 0:00:01\n",
      "   ---------------------------------------- 299.7/299.7 kB 1.2 MB/s eta 0:00:00\n",
      "Building wheels for collected packages: sqlalchemy\n",
      "  Building wheel for sqlalchemy (setup.py): started\n",
      "  Building wheel for sqlalchemy (setup.py): finished with status 'done'\n",
      "  Created wheel for sqlalchemy: filename=SQLAlchemy-1.4.0-cp312-cp312-win_amd64.whl size=1426296 sha256=c322c3956f30e43b1507f1eef7aac21ba1eb5b29395ef950cfb47bcf15154e07\n",
      "  Stored in directory: c:\\users\\james\\appdata\\local\\pip\\cache\\wheels\\a6\\b1\\f8\\f3401c8d8cde72a608b1399e8e0277aa542a70efd4defe44a5\n",
      "Successfully built sqlalchemy\n",
      "Installing collected packages: greenlet, sqlalchemy\n",
      "Successfully installed greenlet-3.1.1 sqlalchemy-1.4.0\n",
      "Collecting ipython-sql\n",
      "  Downloading ipython_sql-0.5.0-py3-none-any.whl.metadata (17 kB)\n",
      "Collecting prettytable (from ipython-sql)\n",
      "  Downloading prettytable-3.12.0-py3-none-any.whl.metadata (30 kB)\n",
      "Requirement already satisfied: ipython in c:\\users\\james\\appdata\\roaming\\python\\python312\\site-packages (from ipython-sql) (8.26.0)\n",
      "Collecting sqlalchemy>=2.0 (from ipython-sql)\n",
      "  Downloading SQLAlchemy-2.0.36-cp312-cp312-win_amd64.whl.metadata (9.9 kB)\n",
      "Collecting sqlparse (from ipython-sql)\n",
      "  Downloading sqlparse-0.5.3-py3-none-any.whl.metadata (3.9 kB)\n",
      "Requirement already satisfied: six in c:\\users\\james\\appdata\\roaming\\python\\python312\\site-packages (from ipython-sql) (1.16.0)\n",
      "Collecting ipython-genutils (from ipython-sql)\n",
      "  Downloading ipython_genutils-0.2.0-py2.py3-none-any.whl.metadata (755 bytes)\n",
      "Requirement already satisfied: typing-extensions>=4.6.0 in c:\\users\\james\\anaconda3\\envs\\anaconda\\lib\\site-packages (from sqlalchemy>=2.0->ipython-sql) (4.9.0)\n",
      "Requirement already satisfied: greenlet!=0.4.17 in c:\\users\\james\\anaconda3\\envs\\anaconda\\lib\\site-packages (from sqlalchemy>=2.0->ipython-sql) (3.1.1)\n",
      "Requirement already satisfied: decorator in c:\\users\\james\\appdata\\roaming\\python\\python312\\site-packages (from ipython->ipython-sql) (5.1.1)\n",
      "Requirement already satisfied: jedi>=0.16 in c:\\users\\james\\appdata\\roaming\\python\\python312\\site-packages (from ipython->ipython-sql) (0.19.1)\n",
      "Requirement already satisfied: matplotlib-inline in c:\\users\\james\\appdata\\roaming\\python\\python312\\site-packages (from ipython->ipython-sql) (0.1.7)\n",
      "Requirement already satisfied: prompt-toolkit<3.1.0,>=3.0.41 in c:\\users\\james\\appdata\\roaming\\python\\python312\\site-packages (from ipython->ipython-sql) (3.0.47)\n",
      "Requirement already satisfied: pygments>=2.4.0 in c:\\users\\james\\appdata\\roaming\\python\\python312\\site-packages (from ipython->ipython-sql) (2.18.0)\n",
      "Requirement already satisfied: stack-data in c:\\users\\james\\appdata\\roaming\\python\\python312\\site-packages (from ipython->ipython-sql) (0.6.3)\n",
      "Requirement already satisfied: traitlets>=5.13.0 in c:\\users\\james\\appdata\\roaming\\python\\python312\\site-packages (from ipython->ipython-sql) (5.14.3)\n",
      "Requirement already satisfied: colorama in c:\\users\\james\\appdata\\roaming\\python\\python312\\site-packages (from ipython->ipython-sql) (0.4.6)\n",
      "Requirement already satisfied: wcwidth in c:\\users\\james\\appdata\\roaming\\python\\python312\\site-packages (from prettytable->ipython-sql) (0.2.13)\n",
      "Requirement already satisfied: parso<0.9.0,>=0.8.3 in c:\\users\\james\\appdata\\roaming\\python\\python312\\site-packages (from jedi>=0.16->ipython->ipython-sql) (0.8.4)\n",
      "Requirement already satisfied: executing>=1.2.0 in c:\\users\\james\\appdata\\roaming\\python\\python312\\site-packages (from stack-data->ipython->ipython-sql) (2.0.1)\n",
      "Requirement already satisfied: asttokens>=2.1.0 in c:\\users\\james\\appdata\\roaming\\python\\python312\\site-packages (from stack-data->ipython->ipython-sql) (2.4.1)\n",
      "Requirement already satisfied: pure-eval in c:\\users\\james\\appdata\\roaming\\python\\python312\\site-packages (from stack-data->ipython->ipython-sql) (0.2.3)\n",
      "Using cached ipython_sql-0.5.0-py3-none-any.whl (20 kB)\n",
      "Downloading SQLAlchemy-2.0.36-cp312-cp312-win_amd64.whl (2.1 MB)\n",
      "   ---------------------------------------- 0.0/2.1 MB ? eta -:--:--\n",
      "    --------------------------------------- 0.0/2.1 MB 2.0 MB/s eta 0:00:01\n",
      "   - -------------------------------------- 0.1/2.1 MB 1.1 MB/s eta 0:00:02\n",
      "   - -------------------------------------- 0.1/2.1 MB 845.5 kB/s eta 0:00:03\n",
      "   -- ------------------------------------- 0.1/2.1 MB 950.9 kB/s eta 0:00:03\n",
      "   ---- ----------------------------------- 0.2/2.1 MB 1.1 MB/s eta 0:00:02\n",
      "   ----- ---------------------------------- 0.3/2.1 MB 1.0 MB/s eta 0:00:02\n",
      "   -------- ------------------------------- 0.4/2.1 MB 1.4 MB/s eta 0:00:02\n",
      "   --------- ------------------------------ 0.5/2.1 MB 1.4 MB/s eta 0:00:02\n",
      "   ------------ --------------------------- 0.6/2.1 MB 1.6 MB/s eta 0:00:01\n",
      "   --------------- ------------------------ 0.8/2.1 MB 1.8 MB/s eta 0:00:01\n",
      "   -------------------- ------------------- 1.1/2.1 MB 2.2 MB/s eta 0:00:01\n",
      "   --------------------- ------------------ 1.1/2.1 MB 2.3 MB/s eta 0:00:01\n",
      "   ------------------------ --------------- 1.3/2.1 MB 2.2 MB/s eta 0:00:01\n",
      "   ----------------------------- ---------- 1.5/2.1 MB 2.4 MB/s eta 0:00:01\n",
      "   ------------------------------ --------- 1.6/2.1 MB 2.5 MB/s eta 0:00:01\n",
      "   ---------------------------------- ----- 1.8/2.1 MB 2.5 MB/s eta 0:00:01\n",
      "   -------------------------------------- - 2.0/2.1 MB 2.6 MB/s eta 0:00:01\n",
      "   ---------------------------------------- 2.1/2.1 MB 2.6 MB/s eta 0:00:00\n",
      "Downloading ipython_genutils-0.2.0-py2.py3-none-any.whl (26 kB)\n",
      "Downloading prettytable-3.12.0-py3-none-any.whl (31 kB)\n",
      "Downloading sqlparse-0.5.3-py3-none-any.whl (44 kB)\n",
      "   ---------------------------------------- 0.0/44.4 kB ? eta -:--:--\n",
      "   ---------------------------------------- 44.4/44.4 kB ? eta 0:00:00\n",
      "Installing collected packages: ipython-genutils, sqlparse, sqlalchemy, prettytable, ipython-sql\n",
      "  Attempting uninstall: sqlalchemy\n",
      "    Found existing installation: SQLAlchemy 1.4.0\n",
      "    Uninstalling SQLAlchemy-1.4.0:\n",
      "      Successfully uninstalled SQLAlchemy-1.4.0\n",
      "Successfully installed ipython-genutils-0.2.0 ipython-sql-0.5.0 prettytable-3.12.0 sqlalchemy-2.0.36 sqlparse-0.5.3\n",
      "Requirement already satisfied: pandas in c:\\users\\james\\anaconda3\\envs\\anaconda\\lib\\site-packages (2.2.2)\n",
      "Requirement already satisfied: numpy>=1.26.0 in c:\\users\\james\\anaconda3\\envs\\anaconda\\lib\\site-packages (from pandas) (1.26.4)\n",
      "Requirement already satisfied: python-dateutil>=2.8.2 in c:\\users\\james\\appdata\\roaming\\python\\python312\\site-packages (from pandas) (2.9.0.post0)\n",
      "Requirement already satisfied: pytz>=2020.1 in c:\\users\\james\\anaconda3\\envs\\anaconda\\lib\\site-packages (from pandas) (2023.3.post1)\n",
      "Requirement already satisfied: tzdata>=2022.7 in c:\\users\\james\\anaconda3\\envs\\anaconda\\lib\\site-packages (from pandas) (2024.1)\n",
      "Requirement already satisfied: six>=1.5 in c:\\users\\james\\appdata\\roaming\\python\\python312\\site-packages (from python-dateutil>=2.8.2->pandas) (1.16.0)\n"
     ]
    }
   ],
   "source": [
    "!pip install sqlalchemy==1.4\n",
    "!pip install ipython-sql\n",
    "!pip install pandas"
   ]
  },
  {
   "cell_type": "markdown",
   "metadata": {},
   "source": [
    "### Connect to the database\n",
    "\n",
    "Let us first load the SQL extension and establish a connection with the database\n"
   ]
  },
  {
   "cell_type": "code",
   "execution_count": 2,
   "metadata": {},
   "outputs": [],
   "source": [
    "%load_ext sql"
   ]
  },
  {
   "cell_type": "code",
   "execution_count": 4,
   "metadata": {},
   "outputs": [],
   "source": [
    "import csv, sqlite3\n",
    "\n",
    "con = sqlite3.connect(\"my_data1.db\")\n",
    "cur = con.cursor()"
   ]
  },
  {
   "cell_type": "code",
   "execution_count": 5,
   "metadata": {},
   "outputs": [],
   "source": [
    "%sql sqlite:///my_data1.db"
   ]
  },
  {
   "cell_type": "code",
   "execution_count": 10,
   "metadata": {},
   "outputs": [
    {
     "data": {
      "text/plain": [
       "101"
      ]
     },
     "execution_count": 10,
     "metadata": {},
     "output_type": "execute_result"
    }
   ],
   "source": [
    "import pandas as pd\n",
    "df = pd.read_csv(\"https://cf-courses-data.s3.us.cloud-object-storage.appdomain.cloud/IBM-DS0321EN-SkillsNetwork/labs/module_2/data/Spacex.csv\")\n",
    "df.to_sql(\"SPACEXTBL\", con, if_exists='replace', index=False,method=\"multi\")"
   ]
  },
  {
   "cell_type": "markdown",
   "metadata": {},
   "source": [
    "**Note:This below code is added to remove blank rows from table**\n"
   ]
  },
  {
   "cell_type": "code",
   "execution_count": 11,
   "metadata": {},
   "outputs": [
    {
     "name": "stdout",
     "output_type": "stream",
     "text": [
      " * sqlite:///my_data1.db\n",
      "Done.\n"
     ]
    },
    {
     "data": {
      "text/plain": [
       "[]"
      ]
     },
     "execution_count": 11,
     "metadata": {},
     "output_type": "execute_result"
    }
   ],
   "source": [
    "%sql create table SPACEXTABLE as select * from SPACEXTBL where Date is not null"
   ]
  },
  {
   "cell_type": "markdown",
   "metadata": {},
   "source": [
    "## Tasks\n",
    "\n",
    "Now write and execute SQL queries to solve the assignment tasks.\n",
    "\n",
    "**Note: If the column names are in mixed case enclose it in double quotes\n",
    "   For Example \"Landing_Outcome\"** . \n",
    "\n",
    "   \n",
    "\n",
    "### Task 1\n",
    "\n",
    "\n",
    "\n",
    "\n",
    "##### Display the names of the unique launch sites  in the space mission\n"
   ]
  },
  {
   "cell_type": "code",
   "execution_count": 24,
   "metadata": {},
   "outputs": [],
   "source": [
    "%config SqlMagic.style = '_DEPRECATED_DEFAULT'"
   ]
  },
  {
   "cell_type": "code",
   "execution_count": 25,
   "metadata": {},
   "outputs": [
    {
     "name": "stdout",
     "output_type": "stream",
     "text": [
      " * sqlite:///my_data1.db\n",
      "Done.\n"
     ]
    },
    {
     "data": {
      "text/html": [
       "<table>\n",
       "    <thead>\n",
       "        <tr>\n",
       "            <th>Launch_Site</th>\n",
       "        </tr>\n",
       "    </thead>\n",
       "    <tbody>\n",
       "        <tr>\n",
       "            <td>CCAFS LC-40</td>\n",
       "        </tr>\n",
       "        <tr>\n",
       "            <td>VAFB SLC-4E</td>\n",
       "        </tr>\n",
       "        <tr>\n",
       "            <td>KSC LC-39A</td>\n",
       "        </tr>\n",
       "        <tr>\n",
       "            <td>CCAFS SLC-40</td>\n",
       "        </tr>\n",
       "    </tbody>\n",
       "</table>"
      ],
      "text/plain": [
       "[('CCAFS LC-40',), ('VAFB SLC-4E',), ('KSC LC-39A',), ('CCAFS SLC-40',)]"
      ]
     },
     "execution_count": 25,
     "metadata": {},
     "output_type": "execute_result"
    }
   ],
   "source": [
    "%sql SELECT DISTINCT \"Launch_Site\" from SPACEXTABLE"
   ]
  },
  {
   "cell_type": "markdown",
   "metadata": {},
   "source": [
    "\n",
    "### Task 2\n",
    "\n",
    "\n",
    "#####  Display 5 records where launch sites begin with the string 'KSC' \n"
   ]
  },
  {
   "cell_type": "code",
   "execution_count": 34,
   "metadata": {},
   "outputs": [
    {
     "name": "stdout",
     "output_type": "stream",
     "text": [
      " * sqlite:///my_data1.db\n",
      "Done.\n"
     ]
    },
    {
     "data": {
      "text/html": [
       "<table>\n",
       "    <thead>\n",
       "        <tr>\n",
       "            <th>Launch_Site</th>\n",
       "        </tr>\n",
       "    </thead>\n",
       "    <tbody>\n",
       "        <tr>\n",
       "            <td>KSC LC-39A</td>\n",
       "        </tr>\n",
       "        <tr>\n",
       "            <td>KSC LC-39A</td>\n",
       "        </tr>\n",
       "        <tr>\n",
       "            <td>KSC LC-39A</td>\n",
       "        </tr>\n",
       "        <tr>\n",
       "            <td>KSC LC-39A</td>\n",
       "        </tr>\n",
       "        <tr>\n",
       "            <td>KSC LC-39A</td>\n",
       "        </tr>\n",
       "    </tbody>\n",
       "</table>"
      ],
      "text/plain": [
       "[('KSC LC-39A',),\n",
       " ('KSC LC-39A',),\n",
       " ('KSC LC-39A',),\n",
       " ('KSC LC-39A',),\n",
       " ('KSC LC-39A',)]"
      ]
     },
     "execution_count": 34,
     "metadata": {},
     "output_type": "execute_result"
    }
   ],
   "source": [
    "%sql SELECT \"Launch_Site\" from SPACEXTABLE WHERE \"Launch_Site\" LIKE 'KSC%' LIMIT 5"
   ]
  },
  {
   "cell_type": "markdown",
   "metadata": {},
   "source": [
    "### Task 3\n",
    "\n",
    "\n",
    "\n",
    "\n",
    "##### Display the total payload mass carried by boosters launched by NASA (CRS)\n"
   ]
  },
  {
   "cell_type": "code",
   "execution_count": 42,
   "metadata": {},
   "outputs": [
    {
     "name": "stdout",
     "output_type": "stream",
     "text": [
      " * sqlite:///my_data1.db\n",
      "Done.\n"
     ]
    },
    {
     "data": {
      "text/html": [
       "<table>\n",
       "    <thead>\n",
       "        <tr>\n",
       "            <th>SUM(PAYLOAD_MASS__KG_)</th>\n",
       "        </tr>\n",
       "    </thead>\n",
       "    <tbody>\n",
       "        <tr>\n",
       "            <td>45596</td>\n",
       "        </tr>\n",
       "    </tbody>\n",
       "</table>"
      ],
      "text/plain": [
       "[(45596,)]"
      ]
     },
     "execution_count": 42,
     "metadata": {},
     "output_type": "execute_result"
    }
   ],
   "source": [
    "%sql SELECT SUM(\"PAYLOAD_MASS__KG_\") FROM SPACEXTABLE WHERE Customer LIKE 'NASA (CRS)'"
   ]
  },
  {
   "cell_type": "markdown",
   "metadata": {},
   "source": [
    "### Task 4\n",
    "\n",
    "\n",
    "\n",
    "\n",
    "##### Display average payload mass carried by booster version F9 v1.1\n"
   ]
  },
  {
   "cell_type": "code",
   "execution_count": 46,
   "metadata": {},
   "outputs": [
    {
     "name": "stdout",
     "output_type": "stream",
     "text": [
      " * sqlite:///my_data1.db\n",
      "Done.\n"
     ]
    },
    {
     "data": {
      "text/html": [
       "<table>\n",
       "    <thead>\n",
       "        <tr>\n",
       "            <th>AVG(PAYLOAD_MASS__KG_)</th>\n",
       "        </tr>\n",
       "    </thead>\n",
       "    <tbody>\n",
       "        <tr>\n",
       "            <td>2928.4</td>\n",
       "        </tr>\n",
       "    </tbody>\n",
       "</table>"
      ],
      "text/plain": [
       "[(2928.4,)]"
      ]
     },
     "execution_count": 46,
     "metadata": {},
     "output_type": "execute_result"
    }
   ],
   "source": [
    "%sql SELECT AVG(\"PAYLOAD_MASS__KG_\") FROM SPACEXTABLE WHERE \"Booster_Version\" LIKE 'F9 v1.1'"
   ]
  },
  {
   "cell_type": "markdown",
   "metadata": {},
   "source": [
    "### Task 5\n",
    "\n",
    "##### List the date where the succesful landing outcome in drone ship was acheived.\n",
    "\n",
    "\n",
    "_Hint:Use min function_ \n"
   ]
  },
  {
   "cell_type": "code",
   "execution_count": 48,
   "metadata": {},
   "outputs": [
    {
     "name": "stdout",
     "output_type": "stream",
     "text": [
      " * sqlite:///my_data1.db\n",
      "Done.\n"
     ]
    },
    {
     "data": {
      "text/html": [
       "<table>\n",
       "    <thead>\n",
       "        <tr>\n",
       "            <th>MIN(Date)</th>\n",
       "        </tr>\n",
       "    </thead>\n",
       "    <tbody>\n",
       "        <tr>\n",
       "            <td>2016-04-08</td>\n",
       "        </tr>\n",
       "    </tbody>\n",
       "</table>"
      ],
      "text/plain": [
       "[('2016-04-08',)]"
      ]
     },
     "execution_count": 48,
     "metadata": {},
     "output_type": "execute_result"
    }
   ],
   "source": [
    "%sql SELECT MIN(Date) FROM SPACEXTABLE WHERE \"Landing_Outcome\" == 'Success (drone ship)'"
   ]
  },
  {
   "cell_type": "markdown",
   "metadata": {},
   "source": [
    "### Task 6\n",
    "\n",
    "##### List the names of the boosters which have success in ground pad  and have payload mass greater than 4000 but less than 6000\n"
   ]
  },
  {
   "cell_type": "code",
   "execution_count": 50,
   "metadata": {},
   "outputs": [
    {
     "name": "stdout",
     "output_type": "stream",
     "text": [
      " * sqlite:///my_data1.db\n",
      "Done.\n"
     ]
    },
    {
     "data": {
      "text/html": [
       "<table>\n",
       "    <thead>\n",
       "        <tr>\n",
       "            <th>Payload</th>\n",
       "        </tr>\n",
       "    </thead>\n",
       "    <tbody>\n",
       "        <tr>\n",
       "            <td>NROL-76</td>\n",
       "        </tr>\n",
       "        <tr>\n",
       "            <td>Boeing X-37B OTV-5</td>\n",
       "        </tr>\n",
       "        <tr>\n",
       "            <td>Zuma</td>\n",
       "        </tr>\n",
       "    </tbody>\n",
       "</table>"
      ],
      "text/plain": [
       "[('NROL-76',), ('Boeing X-37B OTV-5',), ('Zuma',)]"
      ]
     },
     "execution_count": 50,
     "metadata": {},
     "output_type": "execute_result"
    }
   ],
   "source": [
    "%sql SELECT Payload FROM SPACEXTABLE WHERE \"Landing_Outcome\" == 'Success (ground pad)' AND \"PAYLOAD_MASS__KG_\" BETWEEN 4000 AND 6000"
   ]
  },
  {
   "cell_type": "markdown",
   "metadata": {},
   "source": [
    "### Task 7\n",
    "\n",
    "\n",
    "\n",
    "\n",
    "##### List the total number of successful and failure mission outcomes\n"
   ]
  },
  {
   "cell_type": "code",
   "execution_count": 53,
   "metadata": {},
   "outputs": [
    {
     "name": "stdout",
     "output_type": "stream",
     "text": [
      " * sqlite:///my_data1.db\n",
      "Done.\n"
     ]
    },
    {
     "data": {
      "text/html": [
       "<table>\n",
       "    <thead>\n",
       "        <tr>\n",
       "            <th>COUNT(Mission_Outcome)</th>\n",
       "        </tr>\n",
       "    </thead>\n",
       "    <tbody>\n",
       "        <tr>\n",
       "            <td>101</td>\n",
       "        </tr>\n",
       "    </tbody>\n",
       "</table>"
      ],
      "text/plain": [
       "[(101,)]"
      ]
     },
     "execution_count": 53,
     "metadata": {},
     "output_type": "execute_result"
    }
   ],
   "source": [
    "%sql SELECT COUNT(\"Mission_Outcome\") FROM SPACEXTABLE"
   ]
  },
  {
   "cell_type": "markdown",
   "metadata": {},
   "source": [
    "### Task 8\n",
    "\n",
    "\n",
    "\n",
    "##### List the   names of the booster_versions which have carried the maximum payload mass. Use a subquery\n"
   ]
  },
  {
   "cell_type": "code",
   "execution_count": 57,
   "metadata": {},
   "outputs": [
    {
     "name": "stdout",
     "output_type": "stream",
     "text": [
      " * sqlite:///my_data1.db\n",
      "Done.\n"
     ]
    },
    {
     "data": {
      "text/html": [
       "<table>\n",
       "    <thead>\n",
       "        <tr>\n",
       "            <th>Payload</th>\n",
       "        </tr>\n",
       "    </thead>\n",
       "    <tbody>\n",
       "        <tr>\n",
       "            <td>Starlink 1 v1.0, SpaceX CRS-19 </td>\n",
       "        </tr>\n",
       "        <tr>\n",
       "            <td>Starlink 2 v1.0, Crew Dragon in-flight abort test </td>\n",
       "        </tr>\n",
       "        <tr>\n",
       "            <td>Starlink 3 v1.0, Starlink 4 v1.0 </td>\n",
       "        </tr>\n",
       "        <tr>\n",
       "            <td>Starlink 4 v1.0, SpaceX CRS-20</td>\n",
       "        </tr>\n",
       "        <tr>\n",
       "            <td>Starlink 5 v1.0, Starlink 6 v1.0 </td>\n",
       "        </tr>\n",
       "        <tr>\n",
       "            <td>Starlink 6 v1.0, Crew Dragon Demo-2 </td>\n",
       "        </tr>\n",
       "        <tr>\n",
       "            <td>Starlink 7 v1.0, Starlink 8 v1.0</td>\n",
       "        </tr>\n",
       "        <tr>\n",
       "            <td>Starlink 11 v1.0, Starlink 12 v1.0 </td>\n",
       "        </tr>\n",
       "        <tr>\n",
       "            <td>Starlink 12 v1.0, Starlink 13 v1.0 </td>\n",
       "        </tr>\n",
       "        <tr>\n",
       "            <td>Starlink 13 v1.0, Starlink 14 v1.0 </td>\n",
       "        </tr>\n",
       "        <tr>\n",
       "            <td>Starlink 14 v1.0, GPS III-04  </td>\n",
       "        </tr>\n",
       "        <tr>\n",
       "            <td>Starlink 15 v1.0, SpaceX CRS-21</td>\n",
       "        </tr>\n",
       "    </tbody>\n",
       "</table>"
      ],
      "text/plain": [
       "[('Starlink 1 v1.0, SpaceX CRS-19 ',),\n",
       " ('Starlink 2 v1.0, Crew Dragon in-flight abort test ',),\n",
       " ('Starlink 3 v1.0, Starlink 4 v1.0 ',),\n",
       " ('Starlink 4 v1.0, SpaceX CRS-20',),\n",
       " ('Starlink 5 v1.0, Starlink 6 v1.0 ',),\n",
       " ('Starlink 6 v1.0, Crew Dragon Demo-2 ',),\n",
       " ('Starlink 7 v1.0, Starlink 8 v1.0',),\n",
       " ('Starlink 11 v1.0, Starlink 12 v1.0 ',),\n",
       " ('Starlink 12 v1.0, Starlink 13 v1.0 ',),\n",
       " ('Starlink 13 v1.0, Starlink 14 v1.0 ',),\n",
       " ('Starlink 14 v1.0, GPS III-04  ',),\n",
       " ('Starlink 15 v1.0, SpaceX CRS-21',)]"
      ]
     },
     "execution_count": 57,
     "metadata": {},
     "output_type": "execute_result"
    }
   ],
   "source": [
    "%sql SELECT Payload FROM SPACEXTABLE WHERE \"PAYLOAD_MASS__KG_\" == (SELECT MAX(\"PAYLOAD_MASS__KG_\") FROM SPACEXTABLE)"
   ]
  },
  {
   "cell_type": "markdown",
   "metadata": {},
   "source": [
    "### Task 9\n",
    "\n",
    "\n",
    "##### List the records which will display the month names, succesful landing_outcomes in ground pad ,booster versions, launch_site for the months in year 2017\n",
    "**Note: SQLLite does not support monthnames. So you need to use substr(Date,6,2) for month, substr(Date,9,2) for date, substr(Date,0,5),='2017' for year.**\n"
   ]
  },
  {
   "cell_type": "code",
   "execution_count": 68,
   "metadata": {},
   "outputs": [
    {
     "name": "stdout",
     "output_type": "stream",
     "text": [
      " * sqlite:///my_data1.db\n",
      "Done.\n"
     ]
    },
    {
     "data": {
      "text/html": [
       "<table>\n",
       "    <thead>\n",
       "        <tr>\n",
       "            <th>Month</th>\n",
       "            <th>Landing_Outcome</th>\n",
       "            <th>Booster_Version</th>\n",
       "            <th>Launch_Site</th>\n",
       "        </tr>\n",
       "    </thead>\n",
       "    <tbody>\n",
       "        <tr>\n",
       "            <td>02</td>\n",
       "            <td>Success (ground pad)</td>\n",
       "            <td>F9 FT B1031.1</td>\n",
       "            <td>KSC LC-39A</td>\n",
       "        </tr>\n",
       "        <tr>\n",
       "            <td>05</td>\n",
       "            <td>Success (ground pad)</td>\n",
       "            <td>F9 FT B1032.1</td>\n",
       "            <td>KSC LC-39A</td>\n",
       "        </tr>\n",
       "        <tr>\n",
       "            <td>06</td>\n",
       "            <td>Success (ground pad)</td>\n",
       "            <td>F9 FT B1035.1</td>\n",
       "            <td>KSC LC-39A</td>\n",
       "        </tr>\n",
       "        <tr>\n",
       "            <td>08</td>\n",
       "            <td>Success (ground pad)</td>\n",
       "            <td>F9 B4 B1039.1</td>\n",
       "            <td>KSC LC-39A</td>\n",
       "        </tr>\n",
       "        <tr>\n",
       "            <td>09</td>\n",
       "            <td>Success (ground pad)</td>\n",
       "            <td>F9 B4 B1040.1</td>\n",
       "            <td>KSC LC-39A</td>\n",
       "        </tr>\n",
       "        <tr>\n",
       "            <td>12</td>\n",
       "            <td>Success (ground pad)</td>\n",
       "            <td>F9 FT  B1035.2</td>\n",
       "            <td>CCAFS SLC-40</td>\n",
       "        </tr>\n",
       "    </tbody>\n",
       "</table>"
      ],
      "text/plain": [
       "[('02', 'Success (ground pad)', 'F9 FT B1031.1', 'KSC LC-39A'),\n",
       " ('05', 'Success (ground pad)', 'F9 FT B1032.1', 'KSC LC-39A'),\n",
       " ('06', 'Success (ground pad)', 'F9 FT B1035.1', 'KSC LC-39A'),\n",
       " ('08', 'Success (ground pad)', 'F9 B4 B1039.1', 'KSC LC-39A'),\n",
       " ('09', 'Success (ground pad)', 'F9 B4 B1040.1', 'KSC LC-39A'),\n",
       " ('12', 'Success (ground pad)', 'F9 FT  B1035.2', 'CCAFS SLC-40')]"
      ]
     },
     "execution_count": 68,
     "metadata": {},
     "output_type": "execute_result"
    }
   ],
   "source": [
    "%sql SELECT substr(Date,6,2) as Month, \"Landing_Outcome\", \"Booster_Version\", \"Launch_Site\" FROM SPACEXTABLE WHERE \"Landing_Outcome\" == 'Success (ground pad)' AND substr(Date,0,5)='2017'"
   ]
  },
  {
   "cell_type": "markdown",
   "metadata": {},
   "source": [
    "### Task 10\n",
    "\n",
    "\n",
    "\n",
    "\n",
    "##### Rank the count of landing outcomes (such as Failure (drone ship) or Success (ground pad)) between the date 2010-06-04 and 2017-03-20, in descending order\n"
   ]
  },
  {
   "cell_type": "code",
   "execution_count": 91,
   "metadata": {},
   "outputs": [
    {
     "name": "stdout",
     "output_type": "stream",
     "text": [
      " * sqlite:///my_data1.db\n",
      "Done.\n"
     ]
    },
    {
     "data": {
      "text/html": [
       "<table>\n",
       "    <thead>\n",
       "        <tr>\n",
       "            <th>Landing_Outcome</th>\n",
       "            <th>Count</th>\n",
       "        </tr>\n",
       "    </thead>\n",
       "    <tbody>\n",
       "        <tr>\n",
       "            <td>No attempt</td>\n",
       "            <td>10</td>\n",
       "        </tr>\n",
       "        <tr>\n",
       "            <td>Success (drone ship)</td>\n",
       "            <td>5</td>\n",
       "        </tr>\n",
       "        <tr>\n",
       "            <td>Failure (drone ship)</td>\n",
       "            <td>5</td>\n",
       "        </tr>\n",
       "        <tr>\n",
       "            <td>Success (ground pad)</td>\n",
       "            <td>3</td>\n",
       "        </tr>\n",
       "        <tr>\n",
       "            <td>Controlled (ocean)</td>\n",
       "            <td>3</td>\n",
       "        </tr>\n",
       "        <tr>\n",
       "            <td>Uncontrolled (ocean)</td>\n",
       "            <td>2</td>\n",
       "        </tr>\n",
       "        <tr>\n",
       "            <td>Failure (parachute)</td>\n",
       "            <td>2</td>\n",
       "        </tr>\n",
       "        <tr>\n",
       "            <td>Precluded (drone ship)</td>\n",
       "            <td>1</td>\n",
       "        </tr>\n",
       "    </tbody>\n",
       "</table>"
      ],
      "text/plain": [
       "[('No attempt', 10),\n",
       " ('Success (drone ship)', 5),\n",
       " ('Failure (drone ship)', 5),\n",
       " ('Success (ground pad)', 3),\n",
       " ('Controlled (ocean)', 3),\n",
       " ('Uncontrolled (ocean)', 2),\n",
       " ('Failure (parachute)', 2),\n",
       " ('Precluded (drone ship)', 1)]"
      ]
     },
     "execution_count": 91,
     "metadata": {},
     "output_type": "execute_result"
    }
   ],
   "source": [
    "%%sql \n",
    "SELECT \"Landing_Outcome\", COUNT(\"Landing_Outcome\") as Count FROM SPACEXTABLE \n",
    "WHERE Date BETWEEN '2010-06-04' AND '2017-03-20'\n",
    "GROUP BY \"Landing_Outcome\"\n",
    "ORDER BY Count Desc"
   ]
  },
  {
   "cell_type": "markdown",
   "metadata": {},
   "source": [
    "### Reference Links\n",
    "\n",
    "* <a href =\"https://cf-courses-data.s3.us.cloud-object-storage.appdomain.cloud/IBMDeveloperSkillsNetwork-DB0201EN-SkillsNetwork/labs/Module%203/LAB-String_Patterns_Sorting_Grouping.md.html\">Hands-on Lab : String Patterns, Sorting and Grouping</a>  \n",
    "\n",
    "*  <a  href=\"https://cf-courses-data.s3.us.cloud-object-storage.appdomain.cloud/IBMDeveloperSkillsNetwork-DB0201EN-SkillsNetwork/labs/Labs_Coursera_V5/labs/Lab%20-%20Built-in%20functions%20/Hands-on_Lab__Built-in_Functions.md.html\">Hands-on Lab: Built-in functions</a>\n",
    "\n",
    "*  <a  href=\"https://cf-courses-data.s3.us.cloud-object-storage.appdomain.cloud/IBMDeveloperSkillsNetwork-DB0201EN-SkillsNetwork/labs/Labs_Coursera_V5/labs/Lab%20-%20Sub-queries%20and%20Nested%20SELECTs%20/instructional-labs.md.html\">Hands-on Lab : Sub-queries and Nested SELECT Statements</a>\n",
    "\n",
    "*   <a href=\"https://cf-courses-data.s3.us.cloud-object-storage.appdomain.cloud/IBMDeveloperSkillsNetwork-DB0201EN-SkillsNetwork/labs/Module%205/DB0201EN-Week3-1-3-SQLmagic.ipynb\">Hands-on Tutorial: Accessing Databases with SQL magic</a>\n",
    "\n",
    "*  <a href= \"https://cf-courses-data.s3.us.cloud-object-storage.appdomain.cloud/IBMDeveloperSkillsNetwork-DB0201EN-SkillsNetwork/labs/Module%205/DB0201EN-Week3-1-4-Analyzing.ipynb\">Hands-on Lab: Analyzing a real World Data Set</a>\n"
   ]
  },
  {
   "cell_type": "markdown",
   "metadata": {},
   "source": [
    "## Author(s)\n",
    "\n",
    "<h4> Lakshmi Holla </h4>\n"
   ]
  },
  {
   "cell_type": "markdown",
   "metadata": {},
   "source": [
    "## Other Contributors\n",
    "\n",
    "<h4> Rav Ahuja </h4>\n"
   ]
  },
  {
   "cell_type": "markdown",
   "metadata": {},
   "source": [
    "<!--## Change log\n",
    "| Date | Version | Changed by | Change Description |\n",
    "|------|--------|--------|---------|\n",
    "| 2021-07-09 | 0.2 |Lakshmi Holla | Changes made in magic sql|\n",
    "| 2021-05-20 | 0.1 |Lakshmi Holla | Created Initial Version |\n",
    "--!>\n"
   ]
  },
  {
   "cell_type": "markdown",
   "metadata": {},
   "source": [
    "## <h3 align=\"center\"> © IBM Corporation 2021. All rights reserved. <h3/>\n"
   ]
  }
 ],
 "metadata": {
  "kernelspec": {
   "display_name": "Python 3 (ipykernel)",
   "language": "python",
   "name": "python3"
  },
  "language_info": {
   "codemirror_mode": {
    "name": "ipython",
    "version": 3
   },
   "file_extension": ".py",
   "mimetype": "text/x-python",
   "name": "python",
   "nbconvert_exporter": "python",
   "pygments_lexer": "ipython3",
   "version": "3.12.2"
  },
  "prev_pub_hash": "ad05315d68f125ddeb4c7506fc84a8fe03e57af8c6799fdc4d090ebad5b3b8d1"
 },
 "nbformat": 4,
 "nbformat_minor": 4
}
